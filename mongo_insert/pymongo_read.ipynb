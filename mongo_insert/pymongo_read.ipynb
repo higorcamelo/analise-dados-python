{
 "cells": [
  {
   "cell_type": "code",
   "execution_count": null,
   "metadata": {},
   "outputs": [],
   "source": [
    "import pymongo\n",
    "conexao_cliente = pymongo.MongoClient()"
   ]
  },
  {
   "cell_type": "code",
   "execution_count": null,
   "metadata": {},
   "outputs": [],
   "source": [
    "conexao_cliente.list_database_names()"
   ]
  },
  {
   "cell_type": "code",
   "execution_count": null,
   "metadata": {},
   "outputs": [],
   "source": [
    "db = conexao_cliente.cadastroDB"
   ]
  },
  {
   "cell_type": "code",
   "execution_count": null,
   "metadata": {},
   "outputs": [],
   "source": [
    "db.create_collection('minhaColecao')"
   ]
  },
  {
   "cell_type": "code",
   "execution_count": null,
   "metadata": {},
   "outputs": [],
   "source": [
    "db.list_collection_names()"
   ]
  },
  {
   "cell_type": "code",
   "execution_count": null,
   "metadata": {},
   "outputs": [],
   "source": [
    "db.minhaColecao.insert_one({\n",
    "    'título': 'Aprendendo Mongo com Python',\n",
    "    'descricao': 'Aprendendo a gostar de Python e de bonus aprendendo MongoDB',\n",
    "    'by': 'Eu e a minha força de vontade',\n",
    "    'tags':['Python', 'MongoDB', 'Jupyter'],\n",
    "    'likes': 1000\n",
    "})"
   ]
  },
  {
   "cell_type": "code",
   "execution_count": null,
   "metadata": {},
   "outputs": [],
   "source": [
    "db.minhaColecao.find_one()"
   ]
  },
  {
   "cell_type": "code",
   "execution_count": 39,
   "metadata": {},
   "outputs": [
    {
     "data": {
      "text/plain": [
       "{'_id': ObjectId('62265c626d1c1fb9660abf2f'),\n",
       " 'título': 'Aprendendo Mongo com Python',\n",
       " 'descricao': 'Aprendendo a gostar de Python e de bonus aprendendo MongoDB',\n",
       " 'by': 'Eu e a minha força de vontade',\n",
       " 'tags': ['Python', 'MongoDB', 'Jupyter'],\n",
       " 'likes': 1000}"
      ]
     },
     "execution_count": 39,
     "metadata": {},
     "output_type": "execute_result"
    }
   ],
   "source": [
    "redoc = db.minhaColecao.find_one()\n",
    "redoc"
   ]
  }
 ],
 "metadata": {
  "interpreter": {
   "hash": "1c1c916f8365358933923b18d668a45a4e0193623411e261c17f6897a1a12476"
  },
  "kernelspec": {
   "display_name": "Python 3.8.8 ('base')",
   "language": "python",
   "name": "python3"
  },
  "language_info": {
   "name": "python",
   "version": "3.8.8"
  },
  "orig_nbformat": 4
 },
 "nbformat": 4,
 "nbformat_minor": 2
}
