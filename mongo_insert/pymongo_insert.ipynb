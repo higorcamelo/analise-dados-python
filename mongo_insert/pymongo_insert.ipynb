{
 "cells": [
  {
   "cell_type": "code",
   "execution_count": 2,
   "metadata": {},
   "outputs": [],
   "source": [
    "from pymongo import MongoClient\n",
    "import datetime"
   ]
  },
  {
   "cell_type": "code",
   "execution_count": 3,
   "metadata": {},
   "outputs": [],
   "source": [
    "conexao = MongoClient('localhost', 27017)\n",
    "\n",
    "db = conexao.cadastroDB\n",
    "\n",
    "colecao = db.cadastroDB"
   ]
  },
  {
   "cell_type": "code",
   "execution_count": 5,
   "metadata": {},
   "outputs": [],
   "source": [
    "post1 = {'codigo':'ID=9987725', 'nome_produto': 'Geladeira', 'marcas': ['Brastemp', 'Consul','Eletrolux'], \n",
    "        'data_cadastro':datetime.datetime.utcnow()}"
   ]
  },
  {
   "cell_type": "code",
   "execution_count": 6,
   "metadata": {},
   "outputs": [],
   "source": [
    "colecao = db.posts\n",
    "post_id = colecao.insert_one(post1)"
   ]
  },
  {
   "cell_type": "code",
   "execution_count": 9,
   "metadata": {},
   "outputs": [],
   "source": [
    "post2 = {'codigo':'ID=1568114', 'nome_produto': 'Televisor', 'marcas': ['Samsung', 'Panasonic','LG'], \n",
    "        'data_cadastro':datetime.datetime.utcnow()}"
   ]
  },
  {
   "cell_type": "code",
   "execution_count": 10,
   "metadata": {},
   "outputs": [],
   "source": [
    "colecao = db.posts\n",
    "post_id = colecao.insert_one(post2)"
   ]
  },
  {
   "cell_type": "code",
   "execution_count": 11,
   "metadata": {},
   "outputs": [
    {
     "data": {
      "text/plain": [
       "{'_id': ObjectId('62264f30ed7517bba89ba5e7'),\n",
       " 'codigo': 'ID=1568114',\n",
       " 'nome_produto': 'Televisor',\n",
       " 'marcas': ['Samsung', 'Panasonic', 'LG'],\n",
       " 'data_cadastro': datetime.datetime(2022, 3, 7, 18, 30, 7, 454000)}"
      ]
     },
     "execution_count": 11,
     "metadata": {},
     "output_type": "execute_result"
    }
   ],
   "source": [
    "colecao.find_one({'nome_produto': 'Televisor'})"
   ]
  },
  {
   "cell_type": "code",
   "execution_count": 12,
   "metadata": {},
   "outputs": [
    {
     "name": "stdout",
     "output_type": "stream",
     "text": [
      "{'_id': ObjectId('62264de3ed7517bba89ba5e6'), 'codigo': 'ID=9987725', 'nome_produto': 'Geladeira', 'marcas': ['Brastemp', 'Consul', 'Eletrolux'], 'data_cadastro': datetime.datetime(2022, 3, 7, 18, 23, 58, 816000)}\n",
      "{'_id': ObjectId('62264f30ed7517bba89ba5e7'), 'codigo': 'ID=1568114', 'nome_produto': 'Televisor', 'marcas': ['Samsung', 'Panasonic', 'LG'], 'data_cadastro': datetime.datetime(2022, 3, 7, 18, 30, 7, 454000)}\n"
     ]
    }
   ],
   "source": [
    "for post in colecao.find():\n",
    "    print(post)"
   ]
  }
 ],
 "metadata": {
  "interpreter": {
   "hash": "1c1c916f8365358933923b18d668a45a4e0193623411e261c17f6897a1a12476"
  },
  "kernelspec": {
   "display_name": "Python 3.8.8 ('base')",
   "language": "python",
   "name": "python3"
  },
  "language_info": {
   "codemirror_mode": {
    "name": "ipython",
    "version": 3
   },
   "file_extension": ".py",
   "mimetype": "text/x-python",
   "name": "python",
   "nbconvert_exporter": "python",
   "pygments_lexer": "ipython3",
   "version": "3.8.8"
  },
  "orig_nbformat": 4
 },
 "nbformat": 4,
 "nbformat_minor": 2
}
