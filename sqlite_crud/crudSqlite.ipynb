{
 "cells": [
  {
   "cell_type": "code",
   "execution_count": 7,
   "metadata": {},
   "outputs": [
    {
     "ename": "PermissionError",
     "evalue": "[WinError 32] O arquivo já está sendo usado por outro processo: 'escola.db'",
     "output_type": "error",
     "traceback": [
      "\u001b[1;31m---------------------------------------------------------------------------\u001b[0m",
      "\u001b[1;31mPermissionError\u001b[0m                           Traceback (most recent call last)",
      "\u001b[1;32m<ipython-input-7-c21ae99c2542>\u001b[0m in \u001b[0;36m<module>\u001b[1;34m\u001b[0m\n\u001b[0;32m      1\u001b[0m \u001b[1;32mimport\u001b[0m \u001b[0mos\u001b[0m\u001b[1;33m\u001b[0m\u001b[1;33m\u001b[0m\u001b[0m\n\u001b[1;32m----> 2\u001b[1;33m \u001b[0mos\u001b[0m\u001b[1;33m.\u001b[0m\u001b[0mremove\u001b[0m\u001b[1;33m(\u001b[0m\u001b[1;34m\"escola.db\"\u001b[0m\u001b[1;33m)\u001b[0m \u001b[1;32mif\u001b[0m \u001b[0mos\u001b[0m\u001b[1;33m.\u001b[0m\u001b[0mpath\u001b[0m\u001b[1;33m.\u001b[0m\u001b[0mexists\u001b[0m\u001b[1;33m(\u001b[0m\u001b[1;34m\"escola.db\"\u001b[0m\u001b[1;33m)\u001b[0m \u001b[1;32melse\u001b[0m \u001b[1;32mNone\u001b[0m\u001b[1;33m\u001b[0m\u001b[1;33m\u001b[0m\u001b[0m\n\u001b[0m",
      "\u001b[1;31mPermissionError\u001b[0m: [WinError 32] O arquivo já está sendo usado por outro processo: 'escola.db'"
     ]
    }
   ],
   "source": [
    "import os\n",
    "os.remove(\"escola.db\") if os.path.exists(\"escola.db\") else None"
   ]
  },
  {
   "cell_type": "code",
   "execution_count": 8,
   "metadata": {},
   "outputs": [],
   "source": [
    "# Conexão com o DB e criação de um cursor\n",
    "import sqlite3\n",
    "\n",
    "conectar = sqlite3.connect('escola.db')\n",
    "db_cursor = conectar.cursor()"
   ]
  },
  {
   "cell_type": "code",
   "execution_count": 9,
   "metadata": {},
   "outputs": [
    {
     "data": {
      "text/plain": [
       "<sqlite3.Cursor at 0x2406adf9e30>"
      ]
     },
     "execution_count": 9,
     "metadata": {},
     "output_type": "execute_result"
    }
   ],
   "source": [
    "# Criação das tabelas\n",
    "sql_create = 'CREATE TABLE cursos'\\\n",
    "    '(id INTEGER PRIMARY KEY,'\\\n",
    "    'titulo VARCHAR(100), '\\\n",
    "    'categoria VARCHAR(140))'\n",
    "\n",
    "db_cursor.execute(sql_create)"
   ]
  },
  {
   "cell_type": "code",
   "execution_count": 15,
   "metadata": {},
   "outputs": [
    {
     "ename": "IntegrityError",
     "evalue": "UNIQUE constraint failed: cursos.id",
     "output_type": "error",
     "traceback": [
      "\u001b[1;31m---------------------------------------------------------------------------\u001b[0m",
      "\u001b[1;31mIntegrityError\u001b[0m                            Traceback (most recent call last)",
      "\u001b[1;32m<ipython-input-15-d3f0c5793582>\u001b[0m in \u001b[0;36m<module>\u001b[1;34m\u001b[0m\n\u001b[0;32m      6\u001b[0m \u001b[1;33m\u001b[0m\u001b[0m\n\u001b[0;32m      7\u001b[0m \u001b[1;32mfor\u001b[0m \u001b[0mdado\u001b[0m \u001b[1;32min\u001b[0m \u001b[0mdados\u001b[0m\u001b[1;33m:\u001b[0m\u001b[1;33m\u001b[0m\u001b[1;33m\u001b[0m\u001b[0m\n\u001b[1;32m----> 8\u001b[1;33m     \u001b[0mdb_cursor\u001b[0m\u001b[1;33m.\u001b[0m\u001b[0mexecute\u001b[0m\u001b[1;33m(\u001b[0m\u001b[0msql_insert\u001b[0m\u001b[1;33m,\u001b[0m \u001b[0mdado\u001b[0m\u001b[1;33m)\u001b[0m\u001b[1;33m\u001b[0m\u001b[1;33m\u001b[0m\u001b[0m\n\u001b[0m\u001b[0;32m      9\u001b[0m \u001b[1;33m\u001b[0m\u001b[0m\n\u001b[0;32m     10\u001b[0m \u001b[0mconectar\u001b[0m\u001b[1;33m.\u001b[0m\u001b[0mcommit\u001b[0m\u001b[1;33m(\u001b[0m\u001b[1;33m)\u001b[0m\u001b[1;33m\u001b[0m\u001b[1;33m\u001b[0m\u001b[0m\n",
      "\u001b[1;31mIntegrityError\u001b[0m: UNIQUE constraint failed: cursos.id"
     ]
    }
   ],
   "source": [
    "# Inserção de alguns registros\n",
    "sql_insert = 'INSERT INTO  cursos VALUES (?, ?, ?)'\n",
    "\n",
    "dados = [(1000, 'Ciencia de Dados', 'Data Science'),\n",
    "         (1001, 'Big Data Fundamentos', 'Big data'),\n",
    "         (1002, 'Python Fundamentos', 'Análise de Dados')]\n",
    "\n",
    "for dado in dados:\n",
    "    db_cursor.execute(sql_insert, dado)\n",
    "\n"
   ]
  },
  {
   "cell_type": "code",
   "execution_count": 20,
   "metadata": {},
   "outputs": [
    {
     "name": "stdout",
     "output_type": "stream",
     "text": [
      "Curso ID: 1000, Titulo: Ciencia de Dados, Categoria: Data Science \n",
      "\n",
      "Curso ID: 1001, Titulo: Big Data Fundamentos, Categoria: Big data \n",
      "\n",
      "Curso ID: 1002, Titulo: Python Fundamentos, Categoria: Análise de Dados \n",
      "\n"
     ]
    }
   ],
   "source": [
    "# Confirmação da inserção e print dos valores\n",
    "conectar.commit()\n",
    "sql_select = 'SELECT * FROM cursos'\n",
    "db_cursor.execute(sql_select)\n",
    "dados = db_cursor.fetchall()\n",
    "\n",
    "for linha in dados:\n",
    "    print('Curso ID: %d, Titulo: %s, Categoria: %s \\n' % linha)"
   ]
  },
  {
   "cell_type": "code",
   "execution_count": null,
   "metadata": {},
   "outputs": [],
   "source": [
    "#Fechamento da conexão\n",
    "conectar.close()"
   ]
  }
 ],
 "metadata": {
  "interpreter": {
   "hash": "1c1c916f8365358933923b18d668a45a4e0193623411e261c17f6897a1a12476"
  },
  "kernelspec": {
   "display_name": "Python 3.8.8 64-bit ('base': conda)",
   "language": "python",
   "name": "python3"
  },
  "language_info": {
   "codemirror_mode": {
    "name": "ipython",
    "version": 3
   },
   "file_extension": ".py",
   "mimetype": "text/x-python",
   "name": "python",
   "nbconvert_exporter": "python",
   "pygments_lexer": "ipython3",
   "version": "3.8.8"
  },
  "orig_nbformat": 4
 },
 "nbformat": 4,
 "nbformat_minor": 2
}
