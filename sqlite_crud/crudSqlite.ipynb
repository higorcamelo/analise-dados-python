{
 "cells": [
  {
   "cell_type": "code",
   "execution_count": 21,
   "metadata": {},
   "outputs": [],
   "source": [
    "import sqlite3\n",
    "import random\n",
    "import time\n",
    "import datetime\n",
    "\n",
    "conexao = sqlite3.connect('produtos.db')\n",
    "db_cursor = conexao.cursor()\n",
    "\n",
    "def create_Table():\n",
    "    db_cursor.execute('CREATE TABLE IF NOT EXISTS produtos(id INTEGER PRIMARY KEY AUTOINCREMENT NOT NULL, data TEXT, nome_produto TEXT, valor REAL)')\n",
    "\n",
    "def data_insert():\n",
    "    nova_data = datetime.datetime.now()\n",
    "    novo_nome = 'Monitor'\n",
    "    novo_valor = random.randrange(50,100)\n",
    "    db_cursor.execute('INSERT INTO produtos (data, nome_produto, valor) VALUES (?,?,?)', (nova_data, novo_nome, novo_valor))\n",
    "    conexao.commit()\n",
    "\n",
    "def leitura_dados():\n",
    "    db_cursor.execute('SELECT * FROM PRODUTOS')\n",
    "    for linha in db_cursor.fetchall():\n",
    "        print(linha)\n",
    "\n",
    "def atualiza_dados():\n",
    "    db_cursor.execute('UPDATE FROM produtos SET valor = 70 WHERE valor = 80.0*')\n",
    "    conexao.commit\n",
    "\n",
    "def remove_dados():\n",
    "    db_cursor.execute('DELETE FROM produtos WHERE valor = 60.0*')\n",
    "    conexao.commit()"
   ]
  },
  {
   "cell_type": "code",
   "execution_count": 19,
   "metadata": {},
   "outputs": [],
   "source": [
    "for i in range(10):\n",
    "    data_insert()\n",
    "    time.sleep(1)\n"
   ]
  },
  {
   "cell_type": "code",
   "execution_count": 22,
   "metadata": {},
   "outputs": [
    {
     "name": "stdout",
     "output_type": "stream",
     "text": [
      "(10, '2022-03-05 11:25:23', 'Teclado', 90.0)\n",
      "(11, '2022-03-05 11:59:42.541007', 'Monitor', 73.0)\n",
      "(12, '2022-03-05 11:59:43.680879', 'Monitor', 97.0)\n",
      "(13, '2022-03-05 11:59:44.796613', 'Monitor', 78.0)\n",
      "(14, '2022-03-05 11:59:45.932244', 'Monitor', 66.0)\n",
      "(15, '2022-03-05 11:59:47.067135', 'Monitor', 71.0)\n",
      "(16, '2022-03-05 11:59:48.209192', 'Monitor', 78.0)\n",
      "(17, '2022-03-05 11:59:49.305418', 'Monitor', 80.0)\n",
      "(18, '2022-03-05 11:59:50.443240', 'Monitor', 83.0)\n",
      "(19, '2022-03-05 11:59:51.574107', 'Monitor', 56.0)\n",
      "(20, '2022-03-05 11:59:52.691109', 'Monitor', 76.0)\n"
     ]
    }
   ],
   "source": [
    "leitura_dados()"
   ]
  },
  {
   "cell_type": "code",
   "execution_count": 20,
   "metadata": {},
   "outputs": [],
   "source": [
    "db_cursor.close()\n",
    "conexao.close()"
   ]
  }
 ],
 "metadata": {
  "interpreter": {
   "hash": "1c1c916f8365358933923b18d668a45a4e0193623411e261c17f6897a1a12476"
  },
  "kernelspec": {
   "display_name": "Python 3.8.8 ('base')",
   "language": "python",
   "name": "python3"
  },
  "language_info": {
   "codemirror_mode": {
    "name": "ipython",
    "version": 3
   },
   "file_extension": ".py",
   "mimetype": "text/x-python",
   "name": "python",
   "nbconvert_exporter": "python",
   "pygments_lexer": "ipython3",
   "version": "3.8.8"
  },
  "orig_nbformat": 4
 },
 "nbformat": 4,
 "nbformat_minor": 2
}
