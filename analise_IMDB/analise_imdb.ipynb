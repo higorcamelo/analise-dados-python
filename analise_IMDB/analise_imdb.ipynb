{
 "cells": [
  {
   "cell_type": "code",
   "execution_count": 7,
   "metadata": {},
   "outputs": [],
   "source": [
    "import sqlite3 \n",
    "import re #Expressoes regulares\n",
    "import time #Tempo/hora\n",
    "import pycountry #Leitura de países em siglas formato ISO\n",
    "import numpy as np #Manipulação de dados\n",
    "import pandas as pd # ^^\n",
    "import matplotlib.pyplot as plt #Criação de gráficos\n",
    "import seaborn as sns # ^^\n",
    "from matplotlib import cm\n",
    "from sklearn.feature_extraction.text import CountVectorizer #Vetor para calculos\n",
    "import warnings\n",
    "warnings.filterwarnings('ignore')\n",
    "sns.set_theme(style = \"whitegrid\")"
   ]
  },
  {
   "cell_type": "code",
   "execution_count": 2,
   "metadata": {},
   "outputs": [
    {
     "name": "stderr",
     "output_type": "stream",
     "text": [
      "2023-02-23 19:02:46,307 DB already exists: (imdb.db). Refusing to modify. Exiting\n"
     ]
    }
   ],
   "source": [
    "!imdb-sqlite"
   ]
  },
  {
   "cell_type": "code",
   "execution_count": 3,
   "metadata": {},
   "outputs": [],
   "source": [
    "conexao = sqlite3.connect(\"imdb.db\")"
   ]
  },
  {
   "cell_type": "code",
   "execution_count": 8,
   "metadata": {},
   "outputs": [],
   "source": [
    "tabelas = pd.read_sql_query(\"SELECT NAME AS 'Table_name' FROM sqlite_master WHERE type ='table'\", conexao)"
   ]
  },
  {
   "cell_type": "markdown",
   "metadata": {},
   "source": [
    "#### Quais são os tipos mais comuns de obras no IMDB?\n",
    "\n",
    "Se a obra é um longa metragem, um curta, um especial de TV, por exemplo"
   ]
  },
  {
   "cell_type": "code",
   "execution_count": 9,
   "metadata": {},
   "outputs": [
    {
     "data": {
      "text/html": [
       "<div>\n",
       "<style scoped>\n",
       "    .dataframe tbody tr th:only-of-type {\n",
       "        vertical-align: middle;\n",
       "    }\n",
       "\n",
       "    .dataframe tbody tr th {\n",
       "        vertical-align: top;\n",
       "    }\n",
       "\n",
       "    .dataframe thead th {\n",
       "        text-align: right;\n",
       "    }\n",
       "</style>\n",
       "<table border=\"1\" class=\"dataframe\">\n",
       "  <thead>\n",
       "    <tr style=\"text-align: right;\">\n",
       "      <th></th>\n",
       "      <th>type</th>\n",
       "      <th>COUNT</th>\n",
       "      <th>percentual</th>\n",
       "    </tr>\n",
       "  </thead>\n",
       "  <tbody>\n",
       "    <tr>\n",
       "      <th>0</th>\n",
       "      <td>movie</td>\n",
       "      <td>605305</td>\n",
       "      <td>6.887192</td>\n",
       "    </tr>\n",
       "    <tr>\n",
       "      <th>1</th>\n",
       "      <td>short</td>\n",
       "      <td>861545</td>\n",
       "      <td>9.802703</td>\n",
       "    </tr>\n",
       "    <tr>\n",
       "      <th>2</th>\n",
       "      <td>tvEpisode</td>\n",
       "      <td>6585297</td>\n",
       "      <td>74.927849</td>\n",
       "    </tr>\n",
       "    <tr>\n",
       "      <th>3</th>\n",
       "      <td>tvMiniSeries</td>\n",
       "      <td>42678</td>\n",
       "      <td>0.485592</td>\n",
       "    </tr>\n",
       "    <tr>\n",
       "      <th>4</th>\n",
       "      <td>tvMovie</td>\n",
       "      <td>135481</td>\n",
       "      <td>1.541510</td>\n",
       "    </tr>\n",
       "    <tr>\n",
       "      <th>5</th>\n",
       "      <td>tvPilot</td>\n",
       "      <td>2</td>\n",
       "      <td>0.000023</td>\n",
       "    </tr>\n",
       "    <tr>\n",
       "      <th>6</th>\n",
       "      <td>tvSeries</td>\n",
       "      <td>222564</td>\n",
       "      <td>2.532345</td>\n",
       "    </tr>\n",
       "    <tr>\n",
       "      <th>7</th>\n",
       "      <td>tvShort</td>\n",
       "      <td>10510</td>\n",
       "      <td>0.119583</td>\n",
       "    </tr>\n",
       "    <tr>\n",
       "      <th>8</th>\n",
       "      <td>tvSpecial</td>\n",
       "      <td>36387</td>\n",
       "      <td>0.414013</td>\n",
       "    </tr>\n",
       "    <tr>\n",
       "      <th>9</th>\n",
       "      <td>video</td>\n",
       "      <td>258387</td>\n",
       "      <td>2.939941</td>\n",
       "    </tr>\n",
       "    <tr>\n",
       "      <th>10</th>\n",
       "      <td>videoGame</td>\n",
       "      <td>30695</td>\n",
       "      <td>0.349249</td>\n",
       "    </tr>\n",
       "  </tbody>\n",
       "</table>\n",
       "</div>"
      ],
      "text/plain": [
       "            type    COUNT  percentual\n",
       "0          movie   605305    6.887192\n",
       "1          short   861545    9.802703\n",
       "2      tvEpisode  6585297   74.927849\n",
       "3   tvMiniSeries    42678    0.485592\n",
       "4        tvMovie   135481    1.541510\n",
       "5        tvPilot        2    0.000023\n",
       "6       tvSeries   222564    2.532345\n",
       "7        tvShort    10510    0.119583\n",
       "8      tvSpecial    36387    0.414013\n",
       "9          video   258387    2.939941\n",
       "10     videoGame    30695    0.349249"
      ]
     },
     "metadata": {},
     "output_type": "display_data"
    }
   ],
   "source": [
    "#Consulta SQL\n",
    "consultaTipo = '''SELECT type,COUNT(*) AS COUNT FROM titles GROUP BY type'''\n",
    "\n",
    "#Extração do resultado\n",
    "resultadoTipo = pd.read_sql_query(consultaTipo, conexao)\n",
    "\n",
    "#Cálculo percentual de cada gênero\n",
    "resultadoTipo['percentual'] = (resultadoTipo['COUNT'] / resultadoTipo['COUNT'].sum()) * 100\n",
    "\n",
    "#Exibição do resultado\n",
    "display(resultadoTipo)"
   ]
  },
  {
   "cell_type": "code",
   "execution_count": 10,
   "metadata": {},
   "outputs": [],
   "source": [
    "#Ordenação e filtragem de dados\n",
    "#Criação de um dicionário vazio\n",
    "others = {}\n",
    "\n",
    "#Filtro de no máximo 5% (categorias que possuem abaixo de 5% serão consideradas \"others\")\n",
    "others['COUNT'] = resultadoTipo[resultadoTipo['percentual'] < 5]['COUNT'].sum()\n",
    "\n",
    "#Gravação do percentual\n",
    "others['percentual'] = resultadoTipo[resultadoTipo['percentual'] < 5]['percentual'].sum()\n",
    "\n",
    "#Ajuste do nome\n",
    "others['type'] = 'Others'\n",
    "\n",
    "#Filtro dos demais tipos de obras (apenas 3 categorias pontuam mais de 5%)\n",
    "resultadoTipo = resultadoTipo[resultadoTipo['percentual'] > 5]\n",
    "\n",
    "#Concatenação com o dataframe das demais categorias\n",
    "resultadoTipo = resultadoTipo.append(others, ignore_index = True)\n",
    "\n",
    "#Ordenação do resultado\n",
    "resultadoTipo = resultadoTipo.sort_values(by = 'COUNT', ascending = False)\n"
   ]
  },
  {
   "cell_type": "code",
   "execution_count": 11,
   "metadata": {},
   "outputs": [
    {
     "data": {
      "text/plain": [
       "<function matplotlib.pyplot.show(close=None, block=None)>"
      ]
     },
     "execution_count": 11,
     "metadata": {},
     "output_type": "execute_result"
    },
    {
     "data": {
      "image/png": "[encoded data removed]",
      "text/plain": [
       "<Figure size 432x288 with 1 Axes>"
      ]
     },
     "metadata": {},
     "output_type": "display_data"
    }
   ],
   "source": [
    "#Criação de gráficos\n",
    "#Ajuste das labels\n",
    "labels = [str(resultadoTipo['type'][i]) + ' ' + '[' + str(round(resultadoTipo['percentual'][i], 2)) + '%' + ']' for i in resultadoTipo.index]\n",
    "\n",
    "#Escolha das cores\n",
    "cs = cm.Set3(np.arange(100))\n",
    "\n",
    "#Criação da figura\n",
    "figura = plt.figure\n",
    "\n",
    "#Gráfico de rosca\n",
    "plt.pie(resultadoTipo['COUNT'], labeldistance = 1, radius = 3, colors = cs, wedgeprops = dict(width = 0.8))\n",
    "plt.legend(labels = labels, loc = 'center', prop = {'size': 12})\n",
    "plt.title(\"Distribuição de Títulos\", loc = 'Center', fontdict = {'fontsize':20, 'fontweight':20})\n",
    "plt.show"
   ]
  },
  {
   "cell_type": "markdown",
   "metadata": {},
   "source": [
    "#### Quais são os gêneros mais comuns de filmes no IMDB?\n"
   ]
  },
  {
   "cell_type": "code",
   "execution_count": 12,
   "metadata": {},
   "outputs": [],
   "source": [
    "#\"Selecione gêneros, contando todos a partir de títulos, onde o tipo é \"filme\", ordene por gênero\"\n",
    "consultaGenero = '''SELECT genres, COUNT(*) FROM titles WHERE type = 'movie' GROUP BY genres'''\n",
    "\n",
    "resultadoGenero = pd.read_sql_query(consultaGenero, conexao)\n",
    "\n"
   ]
  },
  {
   "cell_type": "code",
   "execution_count": 13,
   "metadata": {},
   "outputs": [],
   "source": [
    "#Remoção de valores vazios (\\N)\n",
    "removeVazio = resultadoGenero['genres'].dropna()"
   ]
  },
  {
   "cell_type": "code",
   "execution_count": 14,
   "metadata": {},
   "outputs": [
    {
     "data": {
      "text/html": [
       "<div>\n",
       "<style scoped>\n",
       "    .dataframe tbody tr th:only-of-type {\n",
       "        vertical-align: middle;\n",
       "    }\n",
       "\n",
       "    .dataframe tbody tr th {\n",
       "        vertical-align: top;\n",
       "    }\n",
       "\n",
       "    .dataframe thead th {\n",
       "        text-align: right;\n",
       "    }\n",
       "</style>\n",
       "<table border=\"1\" class=\"dataframe\">\n",
       "  <thead>\n",
       "    <tr style=\"text-align: right;\">\n",
       "      <th></th>\n",
       "      <th>genres</th>\n",
       "      <th>COUNT(*)</th>\n",
       "    </tr>\n",
       "  </thead>\n",
       "  <tbody>\n",
       "    <tr>\n",
       "      <th>0</th>\n",
       "      <td>Action</td>\n",
       "      <td>13906</td>\n",
       "    </tr>\n",
       "    <tr>\n",
       "      <th>1</th>\n",
       "      <td>Action,Adult</td>\n",
       "      <td>11</td>\n",
       "    </tr>\n",
       "    <tr>\n",
       "      <th>2</th>\n",
       "      <td>Action,Adult,Adventure</td>\n",
       "      <td>1</td>\n",
       "    </tr>\n",
       "    <tr>\n",
       "      <th>3</th>\n",
       "      <td>Action,Adult,Comedy</td>\n",
       "      <td>5</td>\n",
       "    </tr>\n",
       "    <tr>\n",
       "      <th>4</th>\n",
       "      <td>Action,Adult,Crime</td>\n",
       "      <td>10</td>\n",
       "    </tr>\n",
       "    <tr>\n",
       "      <th>...</th>\n",
       "      <td>...</td>\n",
       "      <td>...</td>\n",
       "    </tr>\n",
       "    <tr>\n",
       "      <th>1450</th>\n",
       "      <td>Thriller,Western</td>\n",
       "      <td>44</td>\n",
       "    </tr>\n",
       "    <tr>\n",
       "      <th>1451</th>\n",
       "      <td>War</td>\n",
       "      <td>1291</td>\n",
       "    </tr>\n",
       "    <tr>\n",
       "      <th>1452</th>\n",
       "      <td>War,Western</td>\n",
       "      <td>14</td>\n",
       "    </tr>\n",
       "    <tr>\n",
       "      <th>1453</th>\n",
       "      <td>Western</td>\n",
       "      <td>5156</td>\n",
       "    </tr>\n",
       "    <tr>\n",
       "      <th>1454</th>\n",
       "      <td>\\N</td>\n",
       "      <td>71464</td>\n",
       "    </tr>\n",
       "  </tbody>\n",
       "</table>\n",
       "<p>1455 rows × 2 columns</p>\n",
       "</div>"
      ],
      "text/plain": [
       "                      genres  COUNT(*)\n",
       "0                     Action     13906\n",
       "1               Action,Adult        11\n",
       "2     Action,Adult,Adventure         1\n",
       "3        Action,Adult,Comedy         5\n",
       "4         Action,Adult,Crime        10\n",
       "...                      ...       ...\n",
       "1450        Thriller,Western        44\n",
       "1451                     War      1291\n",
       "1452             War,Western        14\n",
       "1453                 Western      5156\n",
       "1454                      \\N     71464\n",
       "\n",
       "[1455 rows x 2 columns]"
      ]
     },
     "metadata": {},
     "output_type": "display_data"
    }
   ],
   "source": [
    "\n",
    "display(resultadoGenero)"
   ]
  },
  {
   "cell_type": "code",
   "execution_count": 15,
   "metadata": {},
   "outputs": [],
   "source": [
    "#Criação de um count vectorizer\n",
    "\n",
    "#Expressão regular para filtrar as strings\n",
    "regex = '(?u)\\\\b[\\\\w-]+\\\\b'\n",
    "\n",
    "#Construção do vetor\n",
    "vetor = CountVectorizer(token_pattern = regex, analyzer = 'word').fit(removeVazio)\n",
    "\n",
    "#Vetorização do dataset\n",
    "bag_generos = vetor.transform(removeVazio)\n",
    "\n",
    "#Retorno de gêneros únicos\n",
    "generos_unicos = vetor.get_feature_names()\n",
    "\n",
    "#Dataframe de gêneros\n",
    "generos = pd.DataFrame(bag_generos.todense(), columns = generos_unicos, index = removeVazio.index)"
   ]
  },
  {
   "cell_type": "code",
   "execution_count": 16,
   "metadata": {},
   "outputs": [
    {
     "name": "stdout",
     "output_type": "stream",
     "text": [
      "<class 'pandas.core.frame.DataFrame'>\n",
      "Int64Index: 1455 entries, 0 to 1454\n",
      "Data columns (total 29 columns):\n",
      " #   Column       Non-Null Count  Dtype\n",
      "---  ------       --------------  -----\n",
      " 0   action       1455 non-null   int64\n",
      " 1   adult        1455 non-null   int64\n",
      " 2   adventure    1455 non-null   int64\n",
      " 3   animation    1455 non-null   int64\n",
      " 4   biography    1455 non-null   int64\n",
      " 5   comedy       1455 non-null   int64\n",
      " 6   crime        1455 non-null   int64\n",
      " 7   documentary  1455 non-null   int64\n",
      " 8   drama        1455 non-null   int64\n",
      " 9   family       1455 non-null   int64\n",
      " 10  fantasy      1455 non-null   int64\n",
      " 11  film-noir    1455 non-null   int64\n",
      " 12  game-show    1455 non-null   int64\n",
      " 13  history      1455 non-null   int64\n",
      " 14  horror       1455 non-null   int64\n",
      " 15  music        1455 non-null   int64\n",
      " 16  musical      1455 non-null   int64\n",
      " 17  mystery      1455 non-null   int64\n",
      " 18  n            1455 non-null   int64\n",
      " 19  news         1455 non-null   int64\n",
      " 20  reality-tv   1455 non-null   int64\n",
      " 21  romance      1455 non-null   int64\n",
      " 22  sci-fi       1455 non-null   int64\n",
      " 23  short        1455 non-null   int64\n",
      " 24  sport        1455 non-null   int64\n",
      " 25  talk-show    1455 non-null   int64\n",
      " 26  thriller     1455 non-null   int64\n",
      " 27  war          1455 non-null   int64\n",
      " 28  western      1455 non-null   int64\n",
      "dtypes: int64(29)\n",
      "memory usage: 341.0 KB\n"
     ]
    }
   ],
   "source": [
    "#Visualização parcial dos dados\n",
    "generos.info()"
   ]
  },
  {
   "cell_type": "code",
   "execution_count": 17,
   "metadata": {},
   "outputs": [],
   "source": [
    "#Remoção da coluna N, criada sem razão\n",
    "generos = generos.drop(columns = 'n', axis = 0)"
   ]
  },
  {
   "cell_type": "code",
   "execution_count": 18,
   "metadata": {},
   "outputs": [
    {
     "data": {
      "text/plain": [
       "<function matplotlib.pyplot.show(close=None, block=None)>"
      ]
     },
     "execution_count": 18,
     "metadata": {},
     "output_type": "execute_result"
    },
    {
     "data": {
      "image/png": "[encoded data removed]",
      "text/plain": [
       "<Figure size 432x288 with 1 Axes>"
      ]
     },
     "metadata": {},
     "output_type": "display_data"
    }
   ],
   "source": [
    "#Lapidação dos dados e criação do gráfico\n",
    "\n",
    "#Percentual de gêneros\n",
    "generos_percentual = 100 * pd.Series(generos.sum()).sort_values(ascending = False) / generos.shape[0]\n",
    "\n",
    "#Criação do plot\n",
    "plt.Figure(figsize = (16, 8))\n",
    "sns.barplot(x = generos_percentual.values, y = generos_percentual.index, orient = \"h\", palette = \"terrain\" )\n",
    "plt.ylabel(\"Gênero\")\n",
    "plt.xlabel(\"\\nPercentual de Filmes (%)\")\n",
    "plt.title('\\nNúmero de Títulos por Gênero\\n')\n",
    "plt.show"
   ]
  },
  {
   "cell_type": "markdown",
   "metadata": {},
   "source": [
    "#### Quais países produzem mais filmes?\n"
   ]
  },
  {
   "cell_type": "code",
   "execution_count": 19,
   "metadata": {},
   "outputs": [],
   "source": [
    "consultaPaises = ''' SELECT region, COUNT(*) Number_of_movies FROM \n",
    "            akas JOIN titles ON \n",
    "            akas.title_id = titles.title_id\n",
    "            WHERE region != 'None'\n",
    "            AND type = \\'movie\\'\n",
    "            GROUP BY region\n",
    "                    '''\n",
    "# Conta-se o número de filmes de cada regiao (akas), eliminando regiões vazias, filtrando para apenas filmes e agrupando por região"
   ]
  },
  {
   "cell_type": "code",
   "execution_count": 20,
   "metadata": {},
   "outputs": [
    {
     "data": {
      "text/html": [
       "<div>\n",
       "<style scoped>\n",
       "    .dataframe tbody tr th:only-of-type {\n",
       "        vertical-align: middle;\n",
       "    }\n",
       "\n",
       "    .dataframe tbody tr th {\n",
       "        vertical-align: top;\n",
       "    }\n",
       "\n",
       "    .dataframe thead th {\n",
       "        text-align: right;\n",
       "    }\n",
       "</style>\n",
       "<table border=\"1\" class=\"dataframe\">\n",
       "  <thead>\n",
       "    <tr style=\"text-align: right;\">\n",
       "      <th></th>\n",
       "      <th>region</th>\n",
       "      <th>Number_of_movies</th>\n",
       "    </tr>\n",
       "  </thead>\n",
       "  <tbody>\n",
       "    <tr>\n",
       "      <th>0</th>\n",
       "      <td>AD</td>\n",
       "      <td>22</td>\n",
       "    </tr>\n",
       "    <tr>\n",
       "      <th>1</th>\n",
       "      <td>AE</td>\n",
       "      <td>5822</td>\n",
       "    </tr>\n",
       "    <tr>\n",
       "      <th>2</th>\n",
       "      <td>AF</td>\n",
       "      <td>112</td>\n",
       "    </tr>\n",
       "    <tr>\n",
       "      <th>3</th>\n",
       "      <td>AG</td>\n",
       "      <td>12</td>\n",
       "    </tr>\n",
       "    <tr>\n",
       "      <th>4</th>\n",
       "      <td>AL</td>\n",
       "      <td>1279</td>\n",
       "    </tr>\n",
       "    <tr>\n",
       "      <th>...</th>\n",
       "      <td>...</td>\n",
       "      <td>...</td>\n",
       "    </tr>\n",
       "    <tr>\n",
       "      <th>229</th>\n",
       "      <td>YUCS</td>\n",
       "      <td>153</td>\n",
       "    </tr>\n",
       "    <tr>\n",
       "      <th>230</th>\n",
       "      <td>ZA</td>\n",
       "      <td>3201</td>\n",
       "    </tr>\n",
       "    <tr>\n",
       "      <th>231</th>\n",
       "      <td>ZM</td>\n",
       "      <td>15</td>\n",
       "    </tr>\n",
       "    <tr>\n",
       "      <th>232</th>\n",
       "      <td>ZRCD</td>\n",
       "      <td>2</td>\n",
       "    </tr>\n",
       "    <tr>\n",
       "      <th>233</th>\n",
       "      <td>ZW</td>\n",
       "      <td>51</td>\n",
       "    </tr>\n",
       "  </tbody>\n",
       "</table>\n",
       "<p>234 rows × 2 columns</p>\n",
       "</div>"
      ],
      "text/plain": [
       "    region  Number_of_movies\n",
       "0       AD                22\n",
       "1       AE              5822\n",
       "2       AF               112\n",
       "3       AG                12\n",
       "4       AL              1279\n",
       "..     ...               ...\n",
       "229   YUCS               153\n",
       "230     ZA              3201\n",
       "231     ZM                15\n",
       "232   ZRCD                 2\n",
       "233     ZW                51\n",
       "\n",
       "[234 rows x 2 columns]"
      ]
     },
     "metadata": {},
     "output_type": "display_data"
    }
   ],
   "source": [
    "# Visualização apenas por siglas atrapalha a interpretação\n",
    "resultadoPaises = pd.read_sql_query(consultaPaises, conexao)\n",
    "display(resultadoPaises)"
   ]
  },
  {
   "cell_type": "code",
   "execution_count": 42,
   "metadata": {},
   "outputs": [],
   "source": [
    "# Listas auxiliares\n",
    "nomes_paises = []\n",
    "contagem = []\n",
    "\n",
    "# Loop para obter o país de acordo com a região\n",
    "for i in range (resultadoPaises.shape[0]):\n",
    "    try:\n",
    "        coun = resultadoPaises['region'].values[i]\n",
    "        nomes_paises.append(pycountry.countries.get(alpha_2 = coun).name) # Usa-se o pycountry para converter as siglas em nomes de países\n",
    "        contagem.append(resultadoPaises['Number_of_movies'].values[i])\n",
    "    except:\n",
    "        continue"
   ]
  },
  {
   "cell_type": "code",
   "execution_count": 45,
   "metadata": {},
   "outputs": [
    {
     "data": {
      "text/html": [
       "<div>\n",
       "<style scoped>\n",
       "    .dataframe tbody tr th:only-of-type {\n",
       "        vertical-align: middle;\n",
       "    }\n",
       "\n",
       "    .dataframe tbody tr th {\n",
       "        vertical-align: top;\n",
       "    }\n",
       "\n",
       "    .dataframe thead th {\n",
       "        text-align: right;\n",
       "    }\n",
       "</style>\n",
       "<table border=\"1\" class=\"dataframe\">\n",
       "  <thead>\n",
       "    <tr style=\"text-align: right;\">\n",
       "      <th></th>\n",
       "      <th>country</th>\n",
       "      <th>Movie_Count</th>\n",
       "    </tr>\n",
       "  </thead>\n",
       "  <tbody>\n",
       "    <tr>\n",
       "      <th>199</th>\n",
       "      <td>United States</td>\n",
       "      <td>309186</td>\n",
       "    </tr>\n",
       "    <tr>\n",
       "      <th>65</th>\n",
       "      <td>United Kingdom</td>\n",
       "      <td>158927</td>\n",
       "    </tr>\n",
       "    <tr>\n",
       "      <th>96</th>\n",
       "      <td>Japan</td>\n",
       "      <td>91042</td>\n",
       "    </tr>\n",
       "    <tr>\n",
       "      <th>63</th>\n",
       "      <td>France</td>\n",
       "      <td>84282</td>\n",
       "    </tr>\n",
       "    <tr>\n",
       "      <th>89</th>\n",
       "      <td>India</td>\n",
       "      <td>80366</td>\n",
       "    </tr>\n",
       "    <tr>\n",
       "      <th>...</th>\n",
       "      <td>...</td>\n",
       "      <td>...</td>\n",
       "    </tr>\n",
       "    <tr>\n",
       "      <th>90</th>\n",
       "      <td>Iraq</td>\n",
       "      <td>164</td>\n",
       "    </tr>\n",
       "    <tr>\n",
       "      <th>97</th>\n",
       "      <td>Kenya</td>\n",
       "      <td>161</td>\n",
       "    </tr>\n",
       "    <tr>\n",
       "      <th>178</th>\n",
       "      <td>Senegal</td>\n",
       "      <td>155</td>\n",
       "    </tr>\n",
       "    <tr>\n",
       "      <th>121</th>\n",
       "      <td>Moldova, Republic of</td>\n",
       "      <td>150</td>\n",
       "    </tr>\n",
       "    <tr>\n",
       "      <th>198</th>\n",
       "      <td>Uganda</td>\n",
       "      <td>144</td>\n",
       "    </tr>\n",
       "  </tbody>\n",
       "</table>\n",
       "<p>100 rows × 2 columns</p>\n",
       "</div>"
      ],
      "text/plain": [
       "                  country  Movie_Count\n",
       "199         United States       309186\n",
       "65         United Kingdom       158927\n",
       "96                  Japan        91042\n",
       "63                 France        84282\n",
       "89                  India        80366\n",
       "..                    ...          ...\n",
       "90                   Iraq          164\n",
       "97                  Kenya          161\n",
       "178               Senegal          155\n",
       "121  Moldova, Republic of          150\n",
       "198                Uganda          144\n",
       "\n",
       "[100 rows x 2 columns]"
      ]
     },
     "execution_count": 45,
     "metadata": {},
     "output_type": "execute_result"
    }
   ],
   "source": [
    "# Preparação do dataframe\n",
    "df_filmes_paises = pd.DataFrame()\n",
    "df_filmes_paises['country'] = nomes_paises\n",
    "df_filmes_paises['Movie_Count'] = contagem\n",
    "\n",
    "# Ordenação dos resultados\n",
    "df_filmes_paises = df_filmes_paises.sort_values(by = 'Movie_Count', ascending = False)\n",
    "\n",
    "df_filmes_paises.head(100)"
   ]
  },
  {
   "cell_type": "code",
   "execution_count": 46,
   "metadata": {},
   "outputs": [
    {
     "data": {
      "text/plain": [
       "<function matplotlib.pyplot.show(close=None, block=None)>"
      ]
     },
     "execution_count": 46,
     "metadata": {},
     "output_type": "execute_result"
    },
    {
     "data": {
      "image/png": "[encoded data removed]",
      "text/plain": [
       "<Figure size 1440x576 with 1 Axes>"
      ]
     },
     "metadata": {},
     "output_type": "display_data"
    }
   ],
   "source": [
    "# Criação do gráfico\n",
    "plt.figure(figsize = (20,8))\n",
    "\n",
    "sns.barplot(y = df_filmes_paises[:20].country, x = df_filmes_paises[:20].Movie_Count, orient = 'h')\n",
    "\n",
    "for i in range(0,20):\n",
    "    plt.text(df_filmes_paises.Movie_Count[df_filmes_paises.index[i]]-1,\n",
    "    i + 0.30, round(df_filmes_paises[\"Movie_Count\"][df_filmes_paises.index[i]],2))\n",
    "\n",
    "plt.ylabel('País')\n",
    "plt.xlabel('\\nNúmero de Filmes')\n",
    "plt.title('\\nNúmero de Filmes por País\\n')\n",
    "plt.show"
   ]
  }
 ],
 "metadata": {
  "kernelspec": {
   "display_name": "Python 3",
   "language": "python",
   "name": "python3"
  },
  "language_info": {
   "codemirror_mode": {
    "name": "ipython",
    "version": 3
   },
   "file_extension": ".py",
   "mimetype": "text/x-python",
   "name": "python",
   "nbconvert_exporter": "python",
   "pygments_lexer": "ipython3",
   "version": "3.9.13"
  },
  "orig_nbformat": 4,
  "vscode": {
   "interpreter": {
    "hash": "01630cfaa427343962ebedce5548a533b81ebd09b95b8c24f3161ede6810b296"
   }
  }
 },
 "nbformat": 4,
 "nbformat_minor": 2
}
