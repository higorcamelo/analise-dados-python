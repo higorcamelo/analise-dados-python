{
 "cells": [
  {
   "cell_type": "code",
   "execution_count": 45,
   "metadata": {},
   "outputs": [],
   "source": [
    "import sqlite3\n",
    "import random\n",
    "import matplotlib.pyploy as plt\n",
    "import datetime\n",
    "%matplotlib inline\n",
    "\n",
    "conexao = sqlite3.connect('produtos.db')\n",
    "db_cursor = conexao.cursor()\n",
    "\n",
    "def create_Table():\n",
    "    db_cursor.execute('CREATE TABLE IF NOT EXISTS produtos(id INTEGER PRIMARY KEY AUTOINCREMENT NOT NULL, data TEXT, nome_produto TEXT, valor REAL)')\n",
    "\n",
    "def data_insert():\n",
    "    nova_data = datetime.datetime.now()\n",
    "    novo_nome = 'Monitor'\n",
    "    novo_valor = random.randrange(50,100)\n",
    "    db_cursor.execute('INSERT INTO produtos (data, nome_produto, valor) VALUES (?,?,?)', (nova_data, novo_nome, novo_valor))\n",
    "    conexao.commit()\n",
    "\n",
    "def leitura_dados():\n",
    "    db_cursor.execute('SELECT * FROM PRODUTOS')\n",
    "    for linha in db_cursor.fetchall():\n",
    "        print(linha)\n",
    "\n",
    "def atualiza_dados():\n",
    "    db_cursor.execute('UPDATE produtos SET valor = 70.00 WHERE valor = 80.0')\n",
    "    conexao.commit()\n",
    "\n",
    "def remove_dados():\n",
    "    db_cursor.execute('DELETE FROM produtos WHERE valor < 60.0')\n",
    "    conexao.commit()"
   ]
  },
  {
   "cell_type": "code",
   "execution_count": 46,
   "metadata": {},
   "outputs": [],
   "source": [
    "for i in range(10):\n",
    "    data_insert()\n",
    "    time.sleep(1)\n"
   ]
  },
  {
   "cell_type": "code",
   "execution_count": 48,
   "metadata": {},
   "outputs": [],
   "source": [
    "atualiza_dados()\n"
   ]
  },
  {
   "cell_type": "code",
   "execution_count": 49,
   "metadata": {},
   "outputs": [],
   "source": [
    "remove_dados()"
   ]
  },
  {
   "cell_type": "code",
   "execution_count": 50,
   "metadata": {},
   "outputs": [
    {
     "name": "stdout",
     "output_type": "stream",
     "text": [
      "(31, '2022-03-05 12:29:49.592600', 'Monitor', 70.0)\n",
      "(32, '2022-03-05 12:29:50.696745', 'Monitor', 74.0)\n",
      "(33, '2022-03-05 12:29:51.822331', 'Monitor', 63.0)\n",
      "(36, '2022-03-05 12:29:55.202268', 'Monitor', 70.0)\n",
      "(37, '2022-03-05 12:29:56.312418', 'Monitor', 80.0)\n",
      "(38, '2022-03-05 12:29:57.432387', 'Monitor', 72.0)\n",
      "(39, '2022-03-05 12:29:58.562263', 'Monitor', 79.0)\n",
      "(40, '2022-03-05 12:29:59.702366', 'Monitor', 70.0)\n",
      "(42, '2022-03-05 12:30:50.519203', 'Monitor', 79.0)\n",
      "(44, '2022-03-05 12:30:52.772478', 'Monitor', 70.0)\n",
      "(47, '2022-03-05 12:30:56.132613', 'Monitor', 70.0)\n",
      "(48, '2022-03-05 12:30:57.242435', 'Monitor', 70.0)\n",
      "(50, '2022-03-05 12:30:59.432382', 'Monitor', 61.0)\n",
      "(51, '2022-03-05 12:31:08.625478', 'Monitor', 70.0)\n",
      "(52, '2022-03-05 12:31:09.732318', 'Monitor', 70.0)\n",
      "(53, '2022-03-05 12:31:10.847271', 'Monitor', 70.0)\n",
      "(54, '2022-03-05 12:31:11.972568', 'Monitor', 70.0)\n",
      "(55, '2022-03-05 12:31:13.092613', 'Monitor', 70.0)\n",
      "(56, '2022-03-05 12:31:14.202613', 'Monitor', 72.0)\n",
      "(57, '2022-03-05 12:31:15.326333', 'Monitor', 65.0)\n",
      "(58, '2022-03-05 12:31:16.440666', 'Monitor', 70.0)\n",
      "(59, '2022-03-05 12:31:17.579770', 'Monitor', 70.0)\n",
      "(60, '2022-03-05 12:31:18.700228', 'Monitor', 70.0)\n"
     ]
    }
   ],
   "source": [
    "leitura_dados()"
   ]
  },
  {
   "cell_type": "code",
   "execution_count": 20,
   "metadata": {},
   "outputs": [],
   "source": [
    "db_cursor.close()\n",
    "conexao.close()"
   ]
  }
 ],
 "metadata": {
  "interpreter": {
   "hash": "1c1c916f8365358933923b18d668a45a4e0193623411e261c17f6897a1a12476"
  },
  "kernelspec": {
   "display_name": "Python 3.8.8 ('base')",
   "language": "python",
   "name": "python3"
  },
  "language_info": {
   "codemirror_mode": {
    "name": "ipython",
    "version": 3
   },
   "file_extension": ".py",
   "mimetype": "text/x-python",
   "name": "python",
   "nbconvert_exporter": "python",
   "pygments_lexer": "ipython3",
   "version": "3.8.8"
  },
  "orig_nbformat": 4
 },
 "nbformat": 4,
 "nbformat_minor": 2
}
