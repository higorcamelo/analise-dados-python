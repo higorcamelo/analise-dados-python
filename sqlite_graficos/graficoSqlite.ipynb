{
 "cells": [
  {
   "cell_type": "code",
   "execution_count": 3,
   "metadata": {},
   "outputs": [],
   "source": [
    "import sqlite3\n",
    "import random\n",
    "import matplotlib.pyplot as plt\n",
    "import time\n",
    "import datetime\n",
    "%matplotlib inline\n",
    "\n",
    "conexao = sqlite3.connect('produtos2.db')\n",
    "db_cursor = conexao.cursor()\n",
    "\n",
    "def create_table():\n",
    "    db_cursor.execute('CREATE TABLE IF NOT EXISTS produtos(id INTEGER PRIMARY KEY AUTOINCREMENT NOT NULL, data TEXT, nome_produto TEXT, valor REAL)')\n",
    "\n",
    "def data_insert():\n",
    "    nova_data = datetime.datetime.now()\n",
    "    novo_nome = 'Monitor'\n",
    "    novo_valor = random.randrange(50,100)\n",
    "    db_cursor.execute('INSERT INTO produtos (data, nome_produto, valor) VALUES (?,?,?)', (nova_data, novo_nome, novo_valor))\n",
    "    conexao.commit()\n",
    "\n",
    "def leitura_dados():\n",
    "    db_cursor.execute('SELECT * FROM PRODUTOS')\n",
    "    for linha in db_cursor.fetchall():\n",
    "        print(linha)\n",
    "\n",
    "def atualiza_dados():\n",
    "    db_cursor.execute('UPDATE produtos SET valor = 70.00 WHERE valor = 80.0')\n",
    "    conexao.commit()\n",
    "\n",
    "def remove_dados():\n",
    "    db_cursor.execute('DELETE FROM produtos WHERE valor < 60.0')\n",
    "    conexao.commit()\n",
    "\n",
    "def criar_grafico():\n",
    "    db_cursor.execute('SELECT id, valor FROM produtos')\n",
    "    ids = []\n",
    "    valores = []\n",
    "    dados = db_cursor.fetchall()\n",
    "    for linha in dados:\n",
    "        ids.append(linha[0])\n",
    "        valores.append(linha[1])\n",
    "    \n",
    "    plt.bar(ids, valores)\n",
    "    plt.show()"
   ]
  },
  {
   "cell_type": "code",
   "execution_count": 14,
   "metadata": {},
   "outputs": [],
   "source": [
    "for i in range(10):\n",
    "    data_insert()\n",
    "    time.sleep(1)\n"
   ]
  },
  {
   "cell_type": "code",
   "execution_count": 16,
   "metadata": {},
   "outputs": [],
   "source": [
    "atualiza_dados()\n"
   ]
  },
  {
   "cell_type": "code",
   "execution_count": 9,
   "metadata": {},
   "outputs": [],
   "source": [
    "remove_dados()"
   ]
  },
  {
   "cell_type": "code",
   "execution_count": 17,
   "metadata": {},
   "outputs": [
    {
     "data": {
      "image/png": "[encoded data removed]",
      "text/plain": [
       "<Figure size 432x288 with 1 Axes>"
      ]
     },
     "metadata": {
      "needs_background": "light"
     },
     "output_type": "display_data"
    }
   ],
   "source": [
    "criar_grafico()"
   ]
  },
  {
   "cell_type": "code",
   "execution_count": null,
   "metadata": {},
   "outputs": [],
   "source": [
    "db_cursor.close()\n",
    "conexao.close()"
   ]
  }
 ],
 "metadata": {
  "interpreter": {
   "hash": "1c1c916f8365358933923b18d668a45a4e0193623411e261c17f6897a1a12476"
  },
  "kernelspec": {
   "display_name": "Python 3.8.8 ('base')",
   "language": "python",
   "name": "python3"
  },
  "language_info": {
   "codemirror_mode": {
    "name": "ipython",
    "version": 3
   },
   "file_extension": ".py",
   "mimetype": "text/x-python",
   "name": "python",
   "nbconvert_exporter": "python",
   "pygments_lexer": "ipython3",
   "version": "3.8.8"
  },
  "orig_nbformat": 4
 },
 "nbformat": 4,
 "nbformat_minor": 2
}
