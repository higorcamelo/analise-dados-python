{
 "cells": [
  {
   "cell_type": "code",
   "execution_count": 1,
   "metadata": {},
   "outputs": [],
   "source": [
    "import os\n",
    "os.remove(\"escola.db\") if os.path.exists(\"escola.db\") else None"
   ]
  },
  {
   "cell_type": "code",
   "execution_count": 2,
   "metadata": {},
   "outputs": [],
   "source": [
    "# Conexão com o DB e criação de um cursor\n",
    "import sqlite3\n",
    "\n",
    "conectar = sqlite3.connect('escola.db')\n",
    "db_cursor = conectar.cursor()"
   ]
  },
  {
   "cell_type": "code",
   "execution_count": 3,
   "metadata": {},
   "outputs": [
    {
     "data": {
      "text/plain": [
       "<sqlite3.Cursor at 0x1a86050f420>"
      ]
     },
     "execution_count": 3,
     "metadata": {},
     "output_type": "execute_result"
    }
   ],
   "source": [
    "# Criação das tabelas\n",
    "sql_create = 'CREATE TABLE cursos'\\\n",
    "    '(id INTEGER PRIMARY KEY,'\\\n",
    "    'titulo VARCHAR(100), '\\\n",
    "    'categoria VARCHAR(140))'\n",
    "\n",
    "db_cursor.execute(sql_create)"
   ]
  },
  {
   "cell_type": "code",
   "execution_count": 4,
   "metadata": {},
   "outputs": [],
   "source": [
    "# Inserção de alguns registros\n",
    "sql_insert = 'INSERT INTO  cursos VALUES (?, ?, ?)'\n",
    "\n",
    "dados = [(1000, 'Ciencia de Dados', 'Data Science'),\n",
    "         (1001, 'Big Data Fundamentos', 'Big data'),\n",
    "         (1002, 'Python Fundamentos', 'Análise de Dados')]\n",
    "\n",
    "for dado in dados:\n",
    "    db_cursor.execute(sql_insert, dado)\n",
    "\n"
   ]
  },
  {
   "cell_type": "code",
   "execution_count": 5,
   "metadata": {},
   "outputs": [
    {
     "name": "stdout",
     "output_type": "stream",
     "text": [
      "Curso ID: 1000, Titulo: Ciencia de Dados, Categoria: Data Science \n",
      "\n",
      "Curso ID: 1001, Titulo: Big Data Fundamentos, Categoria: Big data \n",
      "\n",
      "Curso ID: 1002, Titulo: Python Fundamentos, Categoria: Análise de Dados \n",
      "\n"
     ]
    }
   ],
   "source": [
    "# Confirmação da inserção e print dos valores\n",
    "conectar.commit()\n",
    "sql_select = 'SELECT * FROM cursos'\n",
    "db_cursor.execute(sql_select)\n",
    "dados = db_cursor.fetchall()\n",
    "\n",
    "for linha in dados:\n",
    "    print('Curso ID: %d, Titulo: %s, Categoria: %s \\n' % linha)"
   ]
  },
  {
   "cell_type": "code",
   "execution_count": 6,
   "metadata": {},
   "outputs": [],
   "source": [
    "#Fechamento da conexão\n",
    "conectar.close()"
   ]
  }
 ],
 "metadata": {
  "interpreter": {
   "hash": "1c1c916f8365358933923b18d668a45a4e0193623411e261c17f6897a1a12476"
  },
  "kernelspec": {
   "display_name": "Python 3.8.8 64-bit ('base': conda)",
   "language": "python",
   "name": "python3"
  },
  "language_info": {
   "codemirror_mode": {
    "name": "ipython",
    "version": 3
   },
   "file_extension": ".py",
   "mimetype": "text/x-python",
   "name": "python",
   "nbconvert_exporter": "python",
   "pygments_lexer": "ipython3",
   "version": "3.8.8"
  },
  "orig_nbformat": 4
 },
 "nbformat": 4,
 "nbformat_minor": 2
}
